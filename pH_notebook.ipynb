{
 "cells": [
  {
   "cell_type": "markdown",
   "metadata": {},
   "source": [
    "# pH\n",
    "premier TP"
   ]
  },
  {
   "cell_type": "markdown",
   "metadata": {},
   "source": [
    "voici un exemple de programme en Python pour afficher une courbe issue d'un suive de pH"
   ]
  },
  {
   "cell_type": "code",
   "execution_count": null,
   "metadata": {},
   "outputs": [],
   "source": [
    "#!/usr/bin/env python3\n",
    "# -*- coding: utf-8 -*-\n",
    "import numpy as np\n",
    "import matplotlib.pyplot as plt\n",
    "\n",
    "# Points de mesure\n",
    "c, pH = ([0.1, 0.05, 0.01, 0.005, 0.001, 0.0001], [1.68, 1.92, 2.22, 2.6, 3.02, 3.65])# A remplir\n",
    "# Trace du modele\n",
    "cth = np.arange(1e-4, 1, 0.0001)\n",
    "pHth = -np.log10(cth)\n",
    "\n",
    "plt.xlabel('Concentration en quantite de matiere c (mol/L)')\n",
    "plt.ylabel('pH de la solution')\n",
    "plt.title('Evolution du pH en fonction de la concentration en ion H3O+')\n",
    "plt.plot(cth, pHth, color='red', label='Modelisation')\n",
    "plt.scatter(x=c, y=pH, marker='+', label='Mesures')\n",
    "plt.legend()\n",
    "plt.show()"
   ]
  },
  {
   "cell_type": "code",
   "execution_count": null,
   "metadata": {},
   "outputs": [],
   "source": []
  }
 ],
 "metadata": {
  "kernelspec": {
   "display_name": "Python 3",
   "language": "python",
   "name": "python3"
  },
  "language_info": {
   "codemirror_mode": {
    "name": "ipython",
    "version": 3
   },
   "file_extension": ".py",
   "mimetype": "text/x-python",
   "name": "python",
   "nbconvert_exporter": "python",
   "pygments_lexer": "ipython3",
   "version": "3.7.4"
  }
 },
 "nbformat": 4,
 "nbformat_minor": 2
}
