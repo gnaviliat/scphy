{
 "cells": [
  {
   "cell_type": "markdown",
   "metadata": {},
   "source": [
    "# mouvement circulaire - tracer des vecteurs"
   ]
  },
  {
   "cell_type": "markdown",
   "metadata": {},
   "source": [
    "nous allons utiliser le programme ci dessous pour tracer les vecteurs accélération"
   ]
  },
  {
   "cell_type": "code",
   "execution_count": null,
   "metadata": {},
   "outputs": [],
   "source": [
    "import matplotlib.pyplot as plt\n",
    "import numpy as np\n",
    "\n",
    "# Lecture des donnees du fichier txt\n",
    "t, x, y = np.loadtxt('donnees.txt', unpack=True, usecols=(0, 1, 2), delimiter = '\\t', skiprows = 2)\n",
    "vx, vy, ax, ay = [], [], [], []\n",
    "\n",
    "for i in range(1, len(x)-1) :\n",
    "  vx.append((x[i+1]-x[i-1])/(t[i+1]-t[i-1]))\n",
    "  vy.append((y[i+1]-y[i-1])/(t[i+1]-t[i-1]))\n",
    "\n",
    "for i in range(1, len(vx)-1) :\n",
    "  ax.append((vx[i+1]-vx[i-1])/(t[i+1]-t[i-1]))\n",
    "  ay.append((vy[i+1]-vy[i-1])/(t[i+1]-t[i-1]))\n",
    "\n",
    "# Creation du graphique\n",
    "plt.axis('equal')\n",
    "plt.title('Trajectoire de la balle')\n",
    "plt.xlabel('x (m)')\n",
    "plt.ylabel('y (m)')\n",
    "plt.plot(x, y, color = 'green', label = 'Trajectoire', marker = '+')\n",
    "\n",
    "for i in range(len(vx)) :\n",
    "  plt.quiver(x[i+1], y[i+1], vx[i], vy[i], angles = \"xy\", scale_units = \"xy\", scale = 10, color = \"red\")\n",
    "\n",
    "for i in range(len(ax)) :\n",
    "  plt.quiver(x[i+2], y[i+2], ax[i], ay[i], angles = \"xy\", scale_units = \"xy\", scale = 100, color = \"blue\")\n",
    "\n",
    "# Fin de la creation du graphique\n",
    "plt.legend()\n",
    "plt.show()"
   ]
  }
 ],
 "metadata": {
  "kernelspec": {
   "display_name": "Python 3",
   "language": "python",
   "name": "python3"
  },
  "language_info": {
   "codemirror_mode": {
    "name": "ipython",
    "version": 3
   },
   "file_extension": ".py",
   "mimetype": "text/x-python",
   "name": "python",
   "nbconvert_exporter": "python",
   "pygments_lexer": "ipython3",
   "version": "3.7.4"
  }
 },
 "nbformat": 4,
 "nbformat_minor": 4
}
