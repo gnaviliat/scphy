{
 "cells": [
  {
   "cell_type": "markdown",
   "metadata": {},
   "source": [
    "# suivi cinétique d'une réaction"
   ]
  },
  {
   "cell_type": "markdown",
   "metadata": {},
   "source": [
    "Vous avez donc fait des acquisitions à l'aide d'une interface et avez exportées vos données (le temps et l'absorbance) dans un fichier txt nommé \"datas_abs.txt\". Les valeurs sont séparées par un \";\".\n",
    "Il faut maintenant traiter ces données et les faire afficher.\n",
    "On peut utiliser le code python ci-après:"
   ]
  },
  {
   "cell_type": "code",
   "execution_count": null,
   "metadata": {},
   "outputs": [],
   "source": [
    "import matplotlib.pyplot as plt\n",
    "\n",
    "#lecture du fichier à interpréter\n",
    "fichier = open(\"datas_abs.txt\")\n",
    "separateur=\";\" #caractère séparateur du csv -peut être une virgule, un point-virgule ou une tabulation noté \\t\n",
    "data=fichier.readlines() #on lit toutes les lignes et on met ça dans une liste -un élément par ligne-\n",
    "fichier.close() #on referme le fichier\n",
    "\n",
    "data=data[1:] #on supprime les lignes d'en-tête qui ne nous intéressent pas, le 1 peut être modifié en fonction des besoins et du nombre de lignes d'en tête\n",
    "\n",
    "#on construit les listes de valeurs utiles en prenant des noms explicites, c'est mieux, elles sont crées vides\n",
    "t=[]\n",
    "abs=[]\n",
    "\n",
    "for ligne in data:\n",
    "    ligne=ligne.replace(\",\",\".\") #change les virgules en point => format numérique différent sur excel et sur python\n",
    "    ligne=ligne.strip().split(separateur) #on sépare les différents élément en utilisant le caractère séparateur défini\n",
    "    ligne=list(map(float,ligne)) #on convertit chaque élément en flottant\n",
    "    t.append(ligne[0]) #on rentre les valeurs dans les listes adaptées définies plus haut\n",
    "    abs.append(ligne[1])\n",
    "    \n",
    "#on recherche les valeurs maximales de t et temp    \n",
    "xmax=max(t)\n",
    "ymax=max(abs)\n",
    "\n",
    "#on s'occupe du graphe\n",
    "\n",
    "plt.xlim(0,xmax) #définition des bornes de l'axe OX\n",
    "plt.ylim(0,ymax+0.5) #définition des bornes de l'axe OY\n",
    "#on nomme les axes\n",
    "plt.xlabel('temps (s)') \n",
    "plt.ylabel('absorbance')\n",
    "#on donne un titre au graphique\n",
    "plt.title('absorbance = f(temps)')\n",
    "#on affiche la grille\n",
    "plt.grid(True)\n",
    "#on définit ce qui va apparaitre dans le graphique\n",
    "plt.plot(t,abs,'b+')\n",
    "\n",
    "#on affiche le graphe complet\n",
    "plt.show()"
   ]
  }
 ],
 "metadata": {
  "kernelspec": {
   "display_name": "Python 3",
   "language": "python",
   "name": "python3"
  },
  "language_info": {
   "codemirror_mode": {
    "name": "ipython",
    "version": 3
   },
   "file_extension": ".py",
   "mimetype": "text/x-python",
   "name": "python",
   "nbconvert_exporter": "python",
   "pygments_lexer": "ipython3",
   "version": "3.7.4"
  }
 },
 "nbformat": 4,
 "nbformat_minor": 2
}
